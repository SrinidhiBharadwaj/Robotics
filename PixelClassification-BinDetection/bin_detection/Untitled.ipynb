{
 "cells": [
  {
   "cell_type": "code",
   "execution_count": 1,
   "id": "4ce1c70f",
   "metadata": {},
   "outputs": [],
   "source": [
    "import numpy as np"
   ]
  },
  {
   "cell_type": "code",
   "execution_count": 3,
   "id": "be2def80",
   "metadata": {},
   "outputs": [],
   "source": [
    "weights = np.load(\"parameters/classifier_weights.npy\")"
   ]
  },
  {
   "cell_type": "code",
   "execution_count": 4,
   "id": "dce40898",
   "metadata": {},
   "outputs": [
    {
     "data": {
      "text/plain": [
       "array([[-8.64341761,  8.18511189, 10.45511232,  1.80613658],\n",
       "       [-4.27654608,  3.1605524 , -7.53966399,  5.6775713 ],\n",
       "       [ 6.08918348, -7.152288  ,  0.08002411, -3.99867949],\n",
       "       [ 4.89354138, -4.82861352,  1.08569898, -4.65232241],\n",
       "       [ 1.93723884,  0.63523724, -4.08117141,  1.16729403]])"
      ]
     },
     "execution_count": 4,
     "metadata": {},
     "output_type": "execute_result"
    }
   ],
   "source": [
    "weights"
   ]
  },
  {
   "cell_type": "code",
   "execution_count": 7,
   "id": "7e6db794",
   "metadata": {},
   "outputs": [],
   "source": [
    "weights = np.load(\"../pixel_classification/parameters/pixel_weights.npy\")"
   ]
  },
  {
   "cell_type": "code",
   "execution_count": 8,
   "id": "37a6e92f",
   "metadata": {},
   "outputs": [
    {
     "data": {
      "text/plain": [
       "array([[-0.06066635,  4.00298174, -1.92447566, -1.87706676],\n",
       "       [ 0.03731184, -2.00195116,  3.84954961, -1.93468951],\n",
       "       [ 0.02335451, -2.00103058, -1.92507394,  3.81175627]])"
      ]
     },
     "execution_count": 8,
     "metadata": {},
     "output_type": "execute_result"
    }
   ],
   "source": [
    "weights"
   ]
  },
  {
   "cell_type": "code",
   "execution_count": null,
   "id": "0f62fdc4",
   "metadata": {},
   "outputs": [],
   "source": []
  }
 ],
 "metadata": {
  "kernelspec": {
   "display_name": "Python 3.6.15 64-bit ('sensing': conda)",
   "language": "python",
   "name": "python3615jvsc74a57bd018a6296613a3970889026e071f7440ee749602d94c1737ff8dcefd513f7b143b"
  },
  "language_info": {
   "codemirror_mode": {
    "name": "ipython",
    "version": 3
   },
   "file_extension": ".py",
   "mimetype": "text/x-python",
   "name": "python",
   "nbconvert_exporter": "python",
   "pygments_lexer": "ipython3",
   "version": "3.6.15"
  }
 },
 "nbformat": 4,
 "nbformat_minor": 5
}
