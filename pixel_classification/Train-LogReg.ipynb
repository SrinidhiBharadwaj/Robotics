{
 "cells": [
  {
   "cell_type": "code",
   "execution_count": 1,
   "id": "27a67364",
   "metadata": {},
   "outputs": [
    {
     "name": "stdout",
     "output_type": "stream",
     "text": [
      "(3694,)\n",
      "(3694, 3)\n"
     ]
    }
   ],
   "source": [
    "import numpy as np\n",
    "import matplotlib.pyplot as plt; plt.ion()\n",
    "import os, cv2\n",
    "\n",
    "def read_pixels(folder, verbose = False):\n",
    "    '''\n",
    "    Reads 3-D pixel value of the top left corner of each image in folder\n",
    "    and returns an n x 3 matrix X containing the pixel values \n",
    "    '''  \n",
    "    n = len(next(os.walk(folder))[2]) # number of files\n",
    "    X = np.empty([n, 3])\n",
    "    i = 0\n",
    "\n",
    "    if verbose:\n",
    "        fig, ax = plt.subplots()\n",
    "        h = ax.imshow(np.random.randint(255, size=(28,28,3)).astype('uint8'))\n",
    "\n",
    "    for filename in os.listdir(folder):  \n",
    "        # read image\n",
    "        # img = plt.imread(os.path.join(folder,filename), 0)\n",
    "        img = cv2.imread(os.path.join(folder,filename))\n",
    "        # convert from BGR (opencv convention) to RGB\n",
    "        img = cv2.cvtColor(img, cv2.COLOR_BGR2RGB)\n",
    "        # store pixel rgb value\n",
    "        X[i] = img[0,0].astype(np.float64)/255\n",
    "        i += 1\n",
    "\n",
    "        # display\n",
    "        if verbose:\n",
    "            h.set_data(img)\n",
    "            ax.set_title(filename)\n",
    "            fig.canvas.flush_events()\n",
    "            plt.show()\n",
    "\n",
    "    return X\n",
    "\n",
    "folder = 'data/training'\n",
    "X1 = read_pixels(folder+'/red', verbose = False)\n",
    "X2 = read_pixels(folder+'/green')\n",
    "X3 = read_pixels(folder+'/blue')\n",
    "y1, y2, y3 = np.full(X1.shape[0],1), np.full(X2.shape[0], 2), np.full(X3.shape[0],3)\n",
    "\n",
    "X, y = np.concatenate((X1,X2,X3)), np.concatenate((y1,y2,y3))\n",
    "\n",
    "print(y.shape)\n",
    "print(X.shape)"
   ]
  },
  {
   "cell_type": "markdown",
   "id": "98a372cd",
   "metadata": {},
   "source": [
    "# Training the model"
   ]
  },
  {
   "cell_type": "code",
   "execution_count": 2,
   "id": "390946b6",
   "metadata": {},
   "outputs": [
    {
     "name": "stdout",
     "output_type": "stream",
     "text": [
      "0.9929615592853276\n"
     ]
    }
   ],
   "source": [
    "from pixel_classifier import PixelClassifier\n",
    "multilogistic = PixelClassifier()\n",
    "weigths = multilogistic.train(X, y, epochs=150, lr=0.0001, verbose=False)\n",
    "print(multilogistic.accuracy(X, y))"
   ]
  },
  {
   "cell_type": "code",
   "execution_count": 3,
   "id": "d991daed",
   "metadata": {},
   "outputs": [
    {
     "data": {
      "image/png": "[encoded data removed]",
      "text/plain": [
       "<Figure size 576x432 with 1 Axes>"
      ]
     },
     "metadata": {
      "needs_background": "light"
     },
     "output_type": "display_data"
    }
   ],
   "source": [
    "fig = plt.figure(figsize=(8,6))\n",
    "plt.plot(np.arange(len(multilogistic.get_loss())), multilogistic.get_loss())\n",
    "plt.title(\"Development of loss during training\")\n",
    "plt.xlabel(\"Number of iterations\")\n",
    "plt.ylabel(\"Loss\")\n",
    "plt.show()"
   ]
  },
  {
   "cell_type": "markdown",
   "id": "2ea4fd1d",
   "metadata": {},
   "source": [
    "# Testing precision for red pixels"
   ]
  },
  {
   "cell_type": "code",
   "execution_count": 23,
   "id": "248fbe7a",
   "metadata": {},
   "outputs": [],
   "source": [
    "folder = 'data/validation/red'\n",
    "  \n",
    "X = read_pixels(folder)\n",
    "y = multilogistic.classify(X)"
   ]
  },
  {
   "cell_type": "code",
   "execution_count": 24,
   "id": "a85a86ed",
   "metadata": {},
   "outputs": [
    {
     "name": "stdout",
     "output_type": "stream",
     "text": [
      "Precision: 1.000000\n",
      "Precision: 0.000000\n",
      "Precision: 0.000000\n"
     ]
    }
   ],
   "source": [
    "# Multiple print statements added for debugging\n",
    "y = np.array(y)\n",
    "print('Precision: %f' % (sum(y==1)/y.shape[0]))\n",
    "# print('Precision: %f' % (sum(y==2)/y.shape[0]))\n",
    "# print('Precision: %f' % (sum(y==3)/y.shape[0]))"
   ]
  }
 ],
 "metadata": {
  "kernelspec": {
   "display_name": "Python 3",
   "language": "python",
   "name": "python3"
  },
  "language_info": {
   "codemirror_mode": {
    "name": "ipython",
    "version": 3
   },
   "file_extension": ".py",
   "mimetype": "text/x-python",
   "name": "python",
   "nbconvert_exporter": "python",
   "pygments_lexer": "ipython3",
   "version": "3.6.15"
  }
 },
 "nbformat": 4,
 "nbformat_minor": 5
}
